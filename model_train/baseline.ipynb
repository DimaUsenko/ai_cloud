{
 "metadata": {
  "kernelspec": {
   "language": "python",
   "display_name": "Python 3",
   "name": "python3"
  },
  "language_info": {
   "name": "python",
   "version": "3.7.10",
   "mimetype": "text/x-python",
   "codemirror_mode": {
    "name": "ipython",
    "version": 3
   },
   "pygments_lexer": "ipython3",
   "nbconvert_exporter": "python",
   "file_extension": ".py"
  }
 },
 "nbformat_minor": 4,
 "nbformat": 4,
 "cells": [
  {
   "cell_type": "code",
   "source": [
    "!python -V"
   ],
   "metadata": {
    "execution": {
     "iopub.status.busy": "2023-02-06T10:32:53.687577Z",
     "iopub.execute_input": "2023-02-06T10:32:53.687921Z",
     "iopub.status.idle": "2023-02-06T10:32:54.653754Z",
     "shell.execute_reply.started": "2023-02-06T10:32:53.687840Z",
     "shell.execute_reply": "2023-02-06T10:32:54.652899Z"
    },
    "trusted": true,
    "pycharm": {
     "name": "#%%\n"
    }
   },
   "execution_count": 1,
   "outputs": [
    {
     "name": "stdout",
     "text": "Python 3.7.10\n",
     "output_type": "stream"
    }
   ]
  },
  {
   "cell_type": "code",
   "source": [
    "%%capture\n",
    "!pip install pytorch-lightning==1.5.3 torchmetrics==0.6.0 pycocotools"
   ],
   "metadata": {
    "_kg_hide-output": true,
    "execution": {
     "iopub.status.busy": "2023-02-08T09:24:59.716747Z",
     "iopub.execute_input": "2023-02-08T09:24:59.717060Z",
     "iopub.status.idle": "2023-02-08T09:25:32.862598Z",
     "shell.execute_reply.started": "2023-02-08T09:24:59.717021Z",
     "shell.execute_reply": "2023-02-08T09:25:32.861592Z"
    },
    "trusted": true,
    "pycharm": {
     "name": "#%%\n"
    }
   },
   "execution_count": 2,
   "outputs": []
  },
  {
   "cell_type": "code",
   "source": [
    "from pycocotools.coco import COCO\n",
    "import os\n",
    "import cv2\n",
    "import copy"
   ],
   "metadata": {
    "execution": {
     "iopub.status.busy": "2023-02-08T09:25:37.599151Z",
     "iopub.execute_input": "2023-02-08T09:25:37.599890Z",
     "iopub.status.idle": "2023-02-08T09:25:41.248157Z",
     "shell.execute_reply.started": "2023-02-08T09:25:37.599850Z",
     "shell.execute_reply": "2023-02-08T09:25:41.247097Z"
    },
    "trusted": true,
    "pycharm": {
     "name": "#%%\n"
    }
   },
   "execution_count": 4,
   "outputs": []
  },
  {
   "cell_type": "code",
   "source": [
    "import albumentations as A\n",
    "from albumentations.pytorch import ToTensorV2"
   ],
   "metadata": {
    "_uuid": "8f2839f25d086af736a60e9eeb907d3b93b6e0e5",
    "_cell_guid": "b1076dfc-b9ad-4769-8c92-a6c4dae69d19",
    "execution": {
     "iopub.status.busy": "2023-02-08T09:26:03.897445Z",
     "iopub.execute_input": "2023-02-08T09:26:03.897737Z",
     "iopub.status.idle": "2023-02-08T09:26:09.800557Z",
     "shell.execute_reply.started": "2023-02-08T09:26:03.897705Z",
     "shell.execute_reply": "2023-02-08T09:26:09.799632Z"
    },
    "trusted": true,
    "pycharm": {
     "name": "#%%\n"
    }
   },
   "execution_count": 5,
   "outputs": []
  },
  {
   "cell_type": "code",
   "source": [
    "import ast\n",
    "import math\n",
    "import multiprocessing as mp\n",
    "from pathlib import Path\n",
    "\n",
    "\n",
    "import numpy as np\n",
    "import pandas as pd\n",
    "import pytorch_lightning as pl\n",
    "import torch\n",
    "import torchmetrics\n",
    "import torchvision\n",
    "import wandb\n",
    "from PIL import Image\n",
    "from pytorch_lightning.callbacks import LearningRateMonitor\n",
    "from pytorch_lightning.loggers import WandbLogger\n",
    "from torchmetrics.metric import Metric\n",
    "from torchvision.datasets import VisionDataset\n",
    "from torchvision.models.detection import fasterrcnn_resnet50_fpn\n",
    "from torchvision.models.detection.faster_rcnn import FastRCNNPredictor\n",
    "from torch.utils.data.dataloader import DataLoader"
   ],
   "metadata": {
    "execution": {
     "iopub.status.busy": "2023-02-08T09:26:11.552150Z",
     "iopub.execute_input": "2023-02-08T09:26:11.552466Z",
     "iopub.status.idle": "2023-02-08T09:26:15.030828Z",
     "shell.execute_reply.started": "2023-02-08T09:26:11.552418Z",
     "shell.execute_reply": "2023-02-08T09:26:15.030196Z"
    },
    "trusted": true,
    "pycharm": {
     "name": "#%%\n"
    }
   },
   "execution_count": 6,
   "outputs": [
    {
     "name": "stderr",
     "text": "\u001B[34m\u001B[1mwandb\u001B[0m: W&B API key is configured (use `wandb login --relogin` to force relogin)\n\u001B[34m\u001B[1mwandb\u001B[0m: \u001B[33mWARNING\u001B[0m If you're specifying your api key in code, ensure this code is not shared publically.\n\u001B[34m\u001B[1mwandb\u001B[0m: \u001B[33mWARNING\u001B[0m Consider setting the WANDB_API_KEY environment variable, or running `wandb login` from the command line.\n\u001B[34m\u001B[1mwandb\u001B[0m: Appending key for api.wandb.ai to your netrc file: /root/.netrc\n",
     "output_type": "stream"
    },
    {
     "execution_count": 6,
     "output_type": "execute_result",
     "data": {
      "text/plain": "True"
     },
     "metadata": {}
    }
   ]
  },
  {
   "cell_type": "code",
   "source": [
    "# Please, create u secret key in Add-ons for wandb\n",
    "from kaggle_secrets import UserSecretsClient\n",
    "\n",
    "user_secrets = UserSecretsClient()\n",
    "\n",
    "\n",
    "wandb_api = user_secrets.get_secret(\"wandb_api\") \n",
    "\n",
    "wandb.login(key=wandb_api)"
   ],
   "metadata": {
    "execution": {
     "iopub.status.busy": "2023-02-08T09:26:27.479235Z",
     "iopub.execute_input": "2023-02-08T09:26:27.479542Z",
     "iopub.status.idle": "2023-02-08T09:26:27.494107Z",
     "shell.execute_reply.started": "2023-02-08T09:26:27.479510Z",
     "shell.execute_reply": "2023-02-08T09:26:27.493285Z"
    },
    "trusted": true,
    "pycharm": {
     "name": "#%%\n"
    }
   },
   "execution_count": 8,
   "outputs": []
  },
  {
   "cell_type": "code",
   "source": [
    "def collate_fn(batch):\n",
    "    return tuple(zip(*batch))\n",
    "\n",
    "\n",
    "def get_n_classes(path_):\n",
    "    train_dataset = COCO_Dataset(path_, split='train')\n",
    "    return len(train_dataset.coco.cats.keys())\n",
    "\n",
    "\n",
    "class COCO_Dataset(VisionDataset):\n",
    "\n",
    "    def __init__(self, root, split='train', transform=None, target_transform=None, transforms=None):\n",
    "        super().__init__(root, transforms, transform, target_transform)\n",
    "        self.split = split\n",
    "        self.coco = COCO(os.path.join(root, split, \"_annotations.coco.json\"))\n",
    "        self.ids = list(sorted(self.coco.imgs.keys()))\n",
    "        self.ids = [id for id in self.ids if (len(self._load_target(id)) > 0)]\n",
    "\n",
    "    def _load_image(self, id: int):\n",
    "        path = self.coco.loadImgs(id)[0]['file_name']\n",
    "        image = cv2.imread(os.path.join(self.root, self.split, path))\n",
    "        image = cv2.cvtColor(image, cv2.COLOR_BGR2RGB)\n",
    "        return image\n",
    "\n",
    "    def _load_target(self, id):\n",
    "        return self.coco.loadAnns(self.coco.getAnnIds(id))\n",
    "\n",
    "    def __getitem__(self, index):\n",
    "        id = self.ids[index]\n",
    "        image = self._load_image(id)\n",
    "        target = self._load_target(id)\n",
    "        target = copy.deepcopy(self._load_target(id))\n",
    "\n",
    "        boxes = [t['bbox'] + [t['category_id']] for t in target]  # required annotation format for albumentations\n",
    "        if self.transforms is not None:\n",
    "            transformed = self.transforms(image=image, bboxes=boxes)\n",
    "\n",
    "        image = transformed['image']\n",
    "        boxes = transformed['bboxes']\n",
    "\n",
    "        new_boxes = []\n",
    "        for box in boxes:\n",
    "            xmin = box[0]\n",
    "            xmax = xmin + box[2]\n",
    "            ymin = box[1]\n",
    "            ymax = ymin + box[3]\n",
    "            new_boxes.append([xmin, ymin, xmax, ymax])\n",
    "\n",
    "        boxes = torch.tensor(new_boxes, dtype=torch.float32)\n",
    "\n",
    "        targ = {}\n",
    "        targ['boxes'] = boxes\n",
    "        targ['labels'] = torch.tensor([t['category_id'] for t in target], dtype=torch.int64)\n",
    "        targ['image_id'] = torch.tensor([t['image_id'] for t in target])\n",
    "        targ['area'] = (boxes[:, 3] - boxes[:, 1]) * (boxes[:, 2] - boxes[:, 0])\n",
    "        targ['iscrowd'] = torch.tensor([t['iscrowd'] for t in target], dtype=torch.int64)\n",
    "        return image.div(255), targ\n",
    "\n",
    "    def __len__(self):\n",
    "        return len(self.ids)"
   ],
   "metadata": {
    "execution": {
     "iopub.status.busy": "2023-02-08T09:26:28.402720Z",
     "iopub.execute_input": "2023-02-08T09:26:28.403072Z",
     "iopub.status.idle": "2023-02-08T09:26:28.414543Z",
     "shell.execute_reply.started": "2023-02-08T09:26:28.403031Z",
     "shell.execute_reply": "2023-02-08T09:26:28.413582Z"
    },
    "trusted": true,
    "pycharm": {
     "name": "#%%\n"
    }
   },
   "execution_count": 9,
   "outputs": []
  },
  {
   "cell_type": "code",
   "source": [
    "def get_transforms(train=False):\n",
    "    if train:\n",
    "        transform = A.Compose([\n",
    "            A.Resize(600, 600),\n",
    "            A.HorizontalFlip(p=0.3),\n",
    "            A.VerticalFlip(p=0.3),\n",
    "            A.RandomBrightnessContrast(p=0.1),\n",
    "            A.ColorJitter(p=0.1),\n",
    "            # A.Normalize(mean=[0.4784, 0.4453, 0.3952], std=[0.2655, 0.2599, 0.2674]),\n",
    "            ToTensorV2()\n",
    "        ], bbox_params=A.BboxParams(format='coco'))\n",
    "    else:\n",
    "        transform = A.Compose([\n",
    "            A.Resize(600, 600),\n",
    "            # A.Normalize(mean=[0.4784, 0.4453, 0.3952], std=[0.2655, 0.2599, 0.2674]),\n",
    "            ToTensorV2()\n",
    "        ], bbox_params=A.BboxParams(format='coco'))\n",
    "    return transform\n",
    "\n",
    "\n",
    "class COCO_DataModule(pl.LightningDataModule):\n",
    "\n",
    "    def __init__(self, dataset_path, batch_size, num_workers):\n",
    "        super().__init__()\n",
    "\n",
    "        self.save_hyperparameters()\n",
    "\n",
    "        self.dataset_path = dataset_path\n",
    "        self.batch_size = batch_size\n",
    "        self.num_workers = num_workers\n",
    "\n",
    "    def setup(self, stage=None):\n",
    "        train_dataset = COCO_Dataset(self.dataset_path, split='train', transforms=get_transforms(True))\n",
    "        val_dataset = COCO_Dataset(self.dataset_path, split='valid', transforms=get_transforms(True))\n",
    "\n",
    "        self.train_dataset, self.val_dataset = train_dataset, val_dataset\n",
    "\n",
    "    def train_dataloader(self):\n",
    "        return self._dataloader(self.train_dataset, shuffle=True)\n",
    "\n",
    "    def val_dataloader(self):\n",
    "        return self._dataloader(self.val_dataset)\n",
    "\n",
    "    def _dataloader(self, dataset, shuffle=False):\n",
    "        return DataLoader(\n",
    "            dataset,\n",
    "            batch_size=self.batch_size,\n",
    "            shuffle=shuffle,\n",
    "            num_workers=self.num_workers,\n",
    "            collate_fn=collate_fn,\n",
    "            pin_memory=True,\n",
    "            drop_last=True,\n",
    "        )\n",
    "\n",
    "\n",
    "def collate_fn(batch):\n",
    "    return tuple(zip(*batch))"
   ],
   "metadata": {
    "execution": {
     "iopub.status.busy": "2023-02-08T09:26:29.342451Z",
     "iopub.execute_input": "2023-02-08T09:26:29.342730Z",
     "iopub.status.idle": "2023-02-08T09:26:29.347224Z",
     "shell.execute_reply.started": "2023-02-08T09:26:29.342699Z",
     "shell.execute_reply": "2023-02-08T09:26:29.346492Z"
    },
    "trusted": true,
    "pycharm": {
     "name": "#%%\n"
    }
   },
   "execution_count": 10,
   "outputs": []
  },
  {
   "cell_type": "code",
   "source": [
    "from torchvision.models.detection.faster_rcnn import FasterRCNN\n",
    "from torchvision.models.detection.backbone_utils import resnet_fpn_backbone"
   ],
   "metadata": {
    "execution": {
     "iopub.status.busy": "2023-02-08T10:37:53.705326Z",
     "iopub.execute_input": "2023-02-08T10:37:53.705603Z",
     "iopub.status.idle": "2023-02-08T10:37:53.711216Z",
     "shell.execute_reply.started": "2023-02-08T10:37:53.705572Z",
     "shell.execute_reply": "2023-02-08T10:37:53.710388Z"
    },
    "trusted": true,
    "pycharm": {
     "name": "#%%\n"
    }
   },
   "execution_count": 19,
   "outputs": []
  },
  {
   "cell_type": "code",
   "source": [
    "\n",
    "class FRCNNObjectDetector(FasterRCNN):\n",
    "    def __init__(self, pretrained_weights_path=None, num_classes=8, **kwargs):\n",
    "        if pretrained_weights_path is None:\n",
    "            backbone = resnet_fpn_backbone('resnet50', True)\n",
    "            super(FRCNNObjectDetector, self).__init__(backbone, num_classes, **kwargs)\n",
    "        else:\n",
    "            backbone = resnet_fpn_backbone('resnet50', False)\n",
    "            super(FRCNNObjectDetector, self).__init__(backbone, num_classes, **kwargs)\n",
    "            self.load_state_dict(torch.load(pretrained_weights_path))"
   ],
   "metadata": {
    "execution": {
     "iopub.status.busy": "2023-02-08T09:26:31.769099Z",
     "iopub.execute_input": "2023-02-08T09:26:31.769568Z",
     "iopub.status.idle": "2023-02-08T09:26:31.779834Z",
     "shell.execute_reply.started": "2023-02-08T09:26:31.769532Z",
     "shell.execute_reply": "2023-02-08T09:26:31.778989Z"
    },
    "trusted": true,
    "pycharm": {
     "name": "#%%\n"
    }
   },
   "execution_count": 12,
   "outputs": []
  },
  {
   "cell_type": "code",
   "source": [
    "\n",
    "class COCO_Module(pl.LightningModule):\n",
    "\n",
    "    def __init__(self, pretrained_weights_path=None, num_classes=3):\n",
    "        super().__init__()\n",
    "\n",
    "        self.model = self._create_model(pretrained_weights_path, num_classes)\n",
    "\n",
    "        self.val_map = torchmetrics.MAP()\n",
    "        self.val_f2 = F2()\n",
    "\n",
    "    def _create_model(self, pretrained_weights_path, num_classes):\n",
    "        return FRCNNObjectDetector(pretrained_weights_path, num_classes)\n",
    "\n",
    "    def forward(self, image):\n",
    "        self.model.eval()\n",
    "        output = self.model(image)\n",
    "\n",
    "        return output\n",
    "\n",
    "    def training_step(self, batch, batch_idx):\n",
    "        image, target = batch\n",
    "        loss_dict = self.model(image, target)\n",
    "        losses = sum(loss for loss in loss_dict.values())\n",
    "\n",
    "        batch_size = len(batch[0])\n",
    "        self.log_dict(loss_dict, batch_size=batch_size)\n",
    "        self.log(\"train_loss\", losses, batch_size=batch_size)\n",
    "\n",
    "        return losses\n",
    "\n",
    "    def validation_step(self, batch, batch_idx):\n",
    "        image, target = batch\n",
    "        output = self.model(image)\n",
    "\n",
    "        val_map = self.val_map(output, target)\n",
    "        val_f2 = self.val_f2(output, target)\n",
    "\n",
    "        self.log(\"val_map\", val_map[\"map\"])\n",
    "        self.log(\"val_f2\", val_f2)\n",
    "\n",
    "    def configure_optimizers(self):\n",
    "        params = [p for p in self.model.parameters() if p.requires_grad]\n",
    "        optimizer = torch.optim.SGD(params, lr=0.001, momentum=0.9, weight_decay=0.0005)\n",
    "\n",
    "        lr_scheduler = torch.optim.lr_scheduler.StepLR(optimizer, step_size=30, gamma=0.1)\n",
    "\n",
    "        return [optimizer], [lr_scheduler]"
   ],
   "metadata": {
    "execution": {
     "iopub.status.busy": "2023-02-08T09:26:32.688802Z",
     "iopub.execute_input": "2023-02-08T09:26:32.689382Z",
     "iopub.status.idle": "2023-02-08T09:26:32.694032Z",
     "shell.execute_reply.started": "2023-02-08T09:26:32.689343Z",
     "shell.execute_reply": "2023-02-08T09:26:32.693080Z"
    },
    "trusted": true,
    "pycharm": {
     "name": "#%%\n"
    }
   },
   "execution_count": 13,
   "outputs": []
  },
  {
   "cell_type": "code",
   "source": [
    "def f_beta(tp, fp, fn, beta=2):\n",
    "    return (1 + beta ** 2) * tp / ((1 + beta ** 2) * tp + beta ** 2 * fn + fp)\n"
   ],
   "metadata": {
    "execution": {
     "iopub.status.busy": "2023-02-08T09:26:33.546630Z",
     "iopub.execute_input": "2023-02-08T09:26:33.546887Z",
     "iopub.status.idle": "2023-02-08T09:26:33.564174Z",
     "shell.execute_reply.started": "2023-02-08T09:26:33.546856Z",
     "shell.execute_reply": "2023-02-08T09:26:33.563131Z"
    },
    "trusted": true,
    "pycharm": {
     "name": "#%%\n"
    }
   },
   "execution_count": 14,
   "outputs": []
  },
  {
   "cell_type": "code",
   "source": [
    "\n",
    "\n",
    "class F2(Metric):\n",
    "    def __init__(\n",
    "            self,\n",
    "            compute_on_step=True,\n",
    "            dist_sync_on_step=False,\n",
    "            process_group=None,\n",
    "            dist_sync_fn=None,\n",
    "    ) -> None:\n",
    "        super().__init__(\n",
    "            compute_on_step=compute_on_step,\n",
    "            dist_sync_on_step=dist_sync_on_step,\n",
    "            process_group=process_group,\n",
    "            dist_sync_fn=dist_sync_fn,\n",
    "        )\n",
    "\n",
    "        self.add_state(\"detection_boxes\", default=[], dist_reduce_fx=None)\n",
    "        self.add_state(\"detection_scores\", default=[], dist_reduce_fx=None)\n",
    "        self.add_state(\"groundtruth_boxes\", default=[], dist_reduce_fx=None)\n",
    "\n",
    "    def update(self, preds, target):\n",
    "        for item in preds:\n",
    "            self.detection_boxes.append(\n",
    "                torchvision.ops.box_convert(item[\"boxes\"], in_fmt=\"xywh\", out_fmt=\"xyxy\")\n",
    "                if len(item[\"boxes\"]) > 0\n",
    "                else item[\"boxes\"]\n",
    "            )\n",
    "            self.detection_scores.append(item[\"scores\"])\n",
    "\n",
    "        for item in target:\n",
    "            self.groundtruth_boxes.append(\n",
    "                torchvision.ops.box_convert(item[\"boxes\"], in_fmt=\"xywh\", out_fmt=\"xyxy\")\n",
    "                if len(item[\"boxes\"]) > 0\n",
    "                else item[\"boxes\"]\n",
    "            )\n",
    "\n",
    "    def compute(self):\n",
    "        tps, fps, fns = 0, 0, 0\n",
    "        for gt_boxes, pred_boxes, pred_scores in zip(\n",
    "                self.groundtruth_boxes, self.detection_boxes, self.detection_scores\n",
    "        ):\n",
    "            tp, fp, fn = self._compute_stat_scores(gt_boxes, pred_boxes, pred_scores)\n",
    "            tps += tp\n",
    "            fps += fp\n",
    "            fns += fn\n",
    "\n",
    "        return f_beta(tps, fps, fns, beta=2)\n",
    "\n",
    "    def _compute_stat_scores(self, gt_boxes, pred_boxes, pred_scores):\n",
    "        if len(gt_boxes) == 0 and len(pred_boxes) == 0:\n",
    "            tps, fps, fns = 0, 0, 0\n",
    "            return tps, fps, fns\n",
    "\n",
    "        elif len(gt_boxes) == 0:\n",
    "            tps, fps, fns = 0, len(pred_boxes), 0\n",
    "            return tps, fps, fns\n",
    "\n",
    "        elif len(pred_boxes) == 0:\n",
    "            tps, fps, fns = 0, 0, len(gt_boxes)\n",
    "            return tps, fps, fns\n",
    "\n",
    "        _, indices = torch.sort(pred_scores, descending=True)\n",
    "        pred_boxes = pred_boxes[indices]\n",
    "\n",
    "        tps, fps, fns = 0, 0, 0\n",
    "        for iou_th in np.arange(0.3, 0.85, 0.05):\n",
    "            tp, fp, fn = self._compute_stat_scores_at_iou_th(gt_boxes, pred_boxes, iou_th)\n",
    "            tps += tp\n",
    "            fps += fp\n",
    "            fns += fn\n",
    "\n",
    "        return tps, fps, fns\n",
    "\n",
    "    def _compute_stat_scores_at_iou_th(self, gt_boxes, pred_boxes, iou_th):\n",
    "        gt_boxes = gt_boxes.clone()\n",
    "        pred_boxes = pred_boxes.clone()\n",
    "\n",
    "        tp = 0\n",
    "        fp = 0\n",
    "        for k, pred_bbox in enumerate(pred_boxes):\n",
    "            ious = torchvision.ops.box_iou(gt_boxes, pred_bbox[None, ...])\n",
    "\n",
    "            max_iou = ious.max()\n",
    "            if max_iou > iou_th:\n",
    "                tp += 1\n",
    "\n",
    "                argmax_iou = ious.argmax()\n",
    "                gt_boxes = torch.cat([gt_boxes[0:argmax_iou], gt_boxes[argmax_iou + 1:]])\n",
    "            else:\n",
    "                fp += 1\n",
    "            if len(gt_boxes) == 0:\n",
    "                fp += len(pred_boxes) - (k + 1)\n",
    "                break\n",
    "\n",
    "        fn = len(gt_boxes)\n",
    "\n",
    "        return tp, fp, fn"
   ],
   "metadata": {
    "execution": {
     "iopub.status.busy": "2023-02-08T10:38:09.439148Z",
     "iopub.execute_input": "2023-02-08T10:38:09.439416Z",
     "iopub.status.idle": "2023-02-08T10:38:09.445513Z",
     "shell.execute_reply.started": "2023-02-08T10:38:09.439386Z",
     "shell.execute_reply": "2023-02-08T10:38:09.444728Z"
    },
    "trusted": true,
    "pycharm": {
     "name": "#%%\n"
    }
   },
   "execution_count": 20,
   "outputs": []
  },
  {
   "cell_type": "code",
   "source": [
    "\n",
    "cfg = {\n",
    "    'dataset_path': \"/kaggle/input/oxford-fixed\",\n",
    "'batch_size': 4,\n",
    "'epoch_num': 10,\n",
    "\n",
    "'checkpoint_pl': \"\",\n",
    "\n",
    "'wandb_project_name': \"ai_cloud_demo\",\n",
    "'wandb_run_name': \"fastrcnn_Oxford_10_ep_pretrained\",\n",
    "\n",
    "'fast_dev_run': False,\n",
    "\n",
    "'checkpoint_pl_output': \"./pl_checkpointOxford_pretrained/\",\n",
    "'model_state_dict_output': \"./Oxford_state_dict/\",\n",
    "\n",
    "'gpus_num': 1,\n",
    "}"
   ],
   "metadata": {
    "execution": {
     "iopub.status.busy": "2023-02-08T09:26:42.372953Z",
     "iopub.execute_input": "2023-02-08T09:26:42.373736Z",
     "iopub.status.idle": "2023-02-08T09:26:43.375975Z",
     "shell.execute_reply.started": "2023-02-08T09:26:42.373698Z",
     "shell.execute_reply": "2023-02-08T09:26:43.374762Z"
    },
    "trusted": true,
    "pycharm": {
     "name": "#%%\n"
    }
   },
   "execution_count": 16,
   "outputs": []
  },
  {
   "cell_type": "code",
   "source": [
    "\n",
    "!mkdir Oxford_state_dict"
   ],
   "metadata": {
    "execution": {
     "iopub.status.busy": "2023-02-08T10:38:12.838840Z",
     "iopub.execute_input": "2023-02-08T10:38:12.839124Z",
     "iopub.status.idle": "2023-02-08T11:44:33.349755Z",
     "shell.execute_reply.started": "2023-02-08T10:38:12.839090Z",
     "shell.execute_reply": "2023-02-08T11:44:33.348953Z"
    },
    "trusted": true,
    "pycharm": {
     "name": "#%%\n"
    }
   },
   "execution_count": 21,
   "outputs": [
    {
     "name": "stdout",
     "text": "loading annotations into memory...\nDone (t=0.02s)\ncreating index...\nindex created!\n",
     "output_type": "stream"
    },
    {
     "name": "stderr",
     "text": "Downloading: \"https://download.pytorch.org/models/resnet50-0676ba61.pth\" to /root/.cache/torch/hub/checkpoints/resnet50-0676ba61.pth\n",
     "output_type": "stream"
    },
    {
     "output_type": "display_data",
     "data": {
      "text/plain": "  0%|          | 0.00/97.8M [00:00<?, ?B/s]",
      "application/vnd.jupyter.widget-view+json": {
       "version_major": 2,
       "version_minor": 0,
       "model_id": "19eaa49167fc4b54beade46c1aea3ea5"
      }
     },
     "metadata": {}
    },
    {
     "name": "stderr",
     "text": "\u001B[34m\u001B[1mwandb\u001B[0m: wandb version 0.13.10 is available!  To upgrade, please run:\n\u001B[34m\u001B[1mwandb\u001B[0m:  $ pip install wandb --upgrade\n\nCondaEnvException: Unable to determine environment\n\nPlease re-run this command with one of the following options:\n\n* Provide an environment name via --name or -n\n* Re-run this command inside an activated conda environment.\n\n",
     "output_type": "stream"
    },
    {
     "output_type": "display_data",
     "data": {
      "text/plain": "<IPython.core.display.HTML object>",
      "text/html": "\n                    Syncing run <strong><a href=\"https://wandb.ai/dimausenko/ai_cloud_demo/runs/2vazqq6p\" target=\"_blank\">fastrcnn_Oxford_10_ep_pretrained</a></strong> to <a href=\"https://wandb.ai/dimausenko/ai_cloud_demo\" target=\"_blank\">Weights & Biases</a> (<a href=\"https://docs.wandb.com/integrations/jupyter.html\" target=\"_blank\">docs</a>).<br/>\n\n                "
     },
     "metadata": {}
    },
    {
     "name": "stdout",
     "text": "loading annotations into memory...\nDone (t=0.02s)\ncreating index...\nindex created!\nloading annotations into memory...\nDone (t=0.01s)\ncreating index...\nindex created!\n",
     "output_type": "stream"
    },
    {
     "output_type": "display_data",
     "data": {
      "text/plain": "Validation sanity check: 0it [00:00, ?it/s]",
      "application/vnd.jupyter.widget-view+json": {
       "version_major": 2,
       "version_minor": 0,
       "model_id": ""
      }
     },
     "metadata": {}
    },
    {
     "output_type": "display_data",
     "data": {
      "text/plain": "Training: 0it [00:00, ?it/s]",
      "application/vnd.jupyter.widget-view+json": {
       "version_major": 2,
       "version_minor": 0,
       "model_id": "546f9927c73943a5bb60f32ab2d3a472"
      }
     },
     "metadata": {}
    },
    {
     "output_type": "display_data",
     "data": {
      "text/plain": "Validating: 0it [00:00, ?it/s]",
      "application/vnd.jupyter.widget-view+json": {
       "version_major": 2,
       "version_minor": 0,
       "model_id": ""
      }
     },
     "metadata": {}
    },
    {
     "output_type": "display_data",
     "data": {
      "text/plain": "Validating: 0it [00:00, ?it/s]",
      "application/vnd.jupyter.widget-view+json": {
       "version_major": 2,
       "version_minor": 0,
       "model_id": ""
      }
     },
     "metadata": {}
    },
    {
     "output_type": "display_data",
     "data": {
      "text/plain": "Validating: 0it [00:00, ?it/s]",
      "application/vnd.jupyter.widget-view+json": {
       "version_major": 2,
       "version_minor": 0,
       "model_id": ""
      }
     },
     "metadata": {}
    },
    {
     "output_type": "display_data",
     "data": {
      "text/plain": "Validating: 0it [00:00, ?it/s]",
      "application/vnd.jupyter.widget-view+json": {
       "version_major": 2,
       "version_minor": 0,
       "model_id": ""
      }
     },
     "metadata": {}
    },
    {
     "output_type": "display_data",
     "data": {
      "text/plain": "Validating: 0it [00:00, ?it/s]",
      "application/vnd.jupyter.widget-view+json": {
       "version_major": 2,
       "version_minor": 0,
       "model_id": ""
      }
     },
     "metadata": {}
    },
    {
     "output_type": "display_data",
     "data": {
      "text/plain": "Validating: 0it [00:00, ?it/s]",
      "application/vnd.jupyter.widget-view+json": {
       "version_major": 2,
       "version_minor": 0,
       "model_id": ""
      }
     },
     "metadata": {}
    },
    {
     "output_type": "display_data",
     "data": {
      "text/plain": "Validating: 0it [00:00, ?it/s]",
      "application/vnd.jupyter.widget-view+json": {
       "version_major": 2,
       "version_minor": 0,
       "model_id": ""
      }
     },
     "metadata": {}
    },
    {
     "output_type": "display_data",
     "data": {
      "text/plain": "Validating: 0it [00:00, ?it/s]",
      "application/vnd.jupyter.widget-view+json": {
       "version_major": 2,
       "version_minor": 0,
       "model_id": ""
      }
     },
     "metadata": {}
    },
    {
     "output_type": "display_data",
     "data": {
      "text/plain": "Validating: 0it [00:00, ?it/s]",
      "application/vnd.jupyter.widget-view+json": {
       "version_major": 2,
       "version_minor": 0,
       "model_id": ""
      }
     },
     "metadata": {}
    },
    {
     "output_type": "display_data",
     "data": {
      "text/plain": "Validating: 0it [00:00, ?it/s]",
      "application/vnd.jupyter.widget-view+json": {
       "version_major": 2,
       "version_minor": 0,
       "model_id": ""
      }
     },
     "metadata": {}
    },
    {
     "output_type": "display_data",
     "data": {
      "text/plain": "<IPython.core.display.HTML object>",
      "text/html": "<br/>Waiting for W&B process to finish, PID 2793... <strong style=\"color:green\">(success).</strong>"
     },
     "metadata": {}
    },
    {
     "output_type": "display_data",
     "data": {
      "text/plain": "VBox(children=(Label(value=' 314.81MB of 314.81MB uploaded (0.00MB deduped)\\r'), FloatProgress(value=1.0, max=…",
      "application/vnd.jupyter.widget-view+json": {
       "version_major": 2,
       "version_minor": 0,
       "model_id": ""
      }
     },
     "metadata": {}
    },
    {
     "output_type": "display_data",
     "data": {
      "text/plain": "<IPython.core.display.HTML object>",
      "text/html": "<style>\n    table.wandb td:nth-child(1) { padding: 0 10px; text-align: right }\n    .wandb-row { display: flex; flex-direction: row; flex-wrap: wrap; width: 100% }\n    .wandb-col { display: flex; flex-direction: column; flex-basis: 100%; flex: 1; padding: 10px; }\n    </style>\n<div class=\"wandb-row\"><div class=\"wandb-col\">\n<h3>Run history:</h3><br/><table class=\"wandb\"><tr><td>epoch</td><td>▁▁▁▁▂▂▂▂▃▃▃▃▃▃▃▃▄▄▄▄▅▅▅▅▆▆▆▆▆▆▆▆▇▇▇▇████</td></tr><tr><td>loss_box_reg</td><td>█▆██▇▃▅▃▅▄▇▃█▃▄▄▄▅▃▂▄▆▃▃▄▄▂▂▁▆▄▁▂▂▆▂▄▁▄▃</td></tr><tr><td>loss_classifier</td><td>█▆▆█▅▄▃▃▄▃▃▂▄▂▃▃▂▃▃▂▂▃▂▃▂▂▂▂▁▄▁▂▁▂▄▁▂▁▂▂</td></tr><tr><td>loss_objectness</td><td>█▄▃▆▂▃▂▁▂▃▂▁█▁▂▁▂▁▁▁▁▂▂▂▁▁▂▂▂▂▁▁▁▁▁▁▂▁▁▁</td></tr><tr><td>loss_rpn_box_reg</td><td>▅▃▄▆▅▃▄▃▄▃▂▆█▂▃▂▂▅▁▂▃▂▁▂▂▂▂▂▂▄▁▄▁▂▂▁▁▂▁▂</td></tr><tr><td>train_loss</td><td>█▅▆█▆▃▄▃▄▃▄▂▆▂▃▃▃▄▂▂▃▄▂▃▂▂▂▂▁▄▂▂▁▂▄▁▃▁▃▂</td></tr><tr><td>trainer/global_step</td><td>▁▁▁▂▂▂▂▂▂▃▃▃▃▃▃▄▄▄▄▄▅▅▅▅▅▅▆▆▆▆▆▇▇▇▇▇▇███</td></tr><tr><td>val_f2</td><td>▁▃▄▅▆▅▆▆▆█</td></tr><tr><td>val_map</td><td>▁▄▅▆▇▆▇▇██</td></tr></table><br/></div><div class=\"wandb-col\">\n<h3>Run summary:</h3><br/><table class=\"wandb\"><tr><td>epoch</td><td>9</td></tr><tr><td>loss_box_reg</td><td>0.05128</td></tr><tr><td>loss_classifier</td><td>0.01748</td></tr><tr><td>loss_objectness</td><td>0.00754</td></tr><tr><td>loss_rpn_box_reg</td><td>0.00219</td></tr><tr><td>train_loss</td><td>0.07849</td></tr><tr><td>trainer/global_step</td><td>6299</td></tr><tr><td>val_f2</td><td>0.78879</td></tr><tr><td>val_map</td><td>0.68639</td></tr></table>\n</div></div>\nSynced 5 W&B file(s), 0 media file(s), 1 artifact file(s) and 0 other file(s)\n<br/>Synced <strong style=\"color:#cdcd00\">fastrcnn_Oxford_10_ep_pretrained</strong>: <a href=\"https://wandb.ai/dimausenko/ai_cloud_demo/runs/2vazqq6p\" target=\"_blank\">https://wandb.ai/dimausenko/ai_cloud_demo/runs/2vazqq6p</a><br/>\nFind logs at: <code>./wandb/run-20230208_103814-2vazqq6p/logs</code><br/>\n"
     },
     "metadata": {}
    }
   ]
  },
  {
   "cell_type": "code",
   "source": [
    "def train():\n",
    "    NUM_WORKERS = mp.cpu_count()\n",
    "    data_module = COCO_DataModule(cfg['dataset_path'], cfg['batch_size'], NUM_WORKERS)\n",
    "    if cfg['checkpoint_pl']:\n",
    "        model = COCO_Module.load_from_checkpoint(cfg['checkpoint_pl'])\n",
    "    else:\n",
    "        model = COCO_Module(num_classes=get_n_classes(cfg['dataset_path']))\n",
    "    wandb.init(project=cfg['wandb_project_name'], name=cfg['wandb_run_name'])\n",
    "    trainer = pl.Trainer(\n",
    "        default_root_dir=cfg['checkpoint_pl_output'],\n",
    "        fast_dev_run=cfg['fast_dev_run'],  # FAST_DEV_RUN,\n",
    "        gpus=cfg['gpus_num'],\n",
    "        logger=WandbLogger(project=cfg['wandb_project_name'], log_model=True, mode='online'),\n",
    "        max_epochs=cfg['epoch_num'],\n",
    "        precision=16 if cfg['gpus_num'] else 32,\n",
    "        log_every_n_steps=1\n",
    "    )\n",
    "    trainer.fit(model, data_module)\n",
    "    \n",
    "    torch.save(\n",
    "    model.model.state_dict(),\n",
    "    cfg['model_state_dict_output'] + f\"{cfg['wandb_run_name']}_model.pth\"\n",
    "    )\n",
    "    wandb.finish()\n",
    "train()"
   ],
   "metadata": {
    "trusted": true,
    "pycharm": {
     "name": "#%%\n"
    }
   },
   "execution_count": null,
   "outputs": []
  },
  {
   "cell_type": "code",
   "execution_count": null,
   "outputs": [],
   "source": [
    "\n",
    "import shutil\n",
    "shutil.make_archive('data', 'zip', '/kaggle/working/')"
   ],
   "metadata": {
    "collapsed": false,
    "pycharm": {
     "name": "#%%\n"
    }
   }
  }
 ]
}